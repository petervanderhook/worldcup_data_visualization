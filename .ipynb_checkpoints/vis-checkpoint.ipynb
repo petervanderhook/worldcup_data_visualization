{
 "cells": [
  {
   "cell_type": "code",
   "execution_count": null,
   "id": "631b092b-32fa-4378-8202-31c330fd0a3e",
   "metadata": {
    "tags": []
   },
   "outputs": [],
   "source": [
    "import matplotlib as plt \n",
    "import numpy as np\n",
    "import pandas as pd\n",
    "\n",
    "\n",
    "df2 = pd.read_csv('worldcup_clean.csv')\n",
    "\n",
    "#plot the dataframe using matplotlib\n",
    "plty = df2.plot(kind='scatter',  x='Goals', y='Caps', title='World Cup Goals to Caps Scatter Plot')\n",
    "\n",
    "plty.set_xlabel('Goals')\n",
    "plty.set_ylabel('Caps')\n",
    "plty.show()"
   ]
  },
  {
   "cell_type": "code",
   "execution_count": null,
   "id": "40671b82-aaf5-4350-8519-9c5b183711db",
   "metadata": {},
   "outputs": [],
   "source": []
  }
 ],
 "metadata": {
  "kernelspec": {
   "display_name": "Python 3 (ipykernel)",
   "language": "python",
   "name": "python3"
  },
  "language_info": {
   "codemirror_mode": {
    "name": "ipython",
    "version": 3
   },
   "file_extension": ".py",
   "mimetype": "text/x-python",
   "name": "python",
   "nbconvert_exporter": "python",
   "pygments_lexer": "ipython3",
   "version": "3.10.10"
  }
 },
 "nbformat": 4,
 "nbformat_minor": 5
}
